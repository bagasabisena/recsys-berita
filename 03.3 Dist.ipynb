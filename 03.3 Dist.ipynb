{
 "cells": [
  {
   "cell_type": "code",
   "execution_count": 5,
   "metadata": {},
   "outputs": [],
   "source": [
    "import multiprocessing as mp\n",
    "\n",
    "import numpy as np"
   ]
  },
  {
   "cell_type": "code",
   "execution_count": 2,
   "metadata": {},
   "outputs": [],
   "source": [
    "doc_vec = np.load('doc_vec.npy')"
   ]
  },
  {
   "cell_type": "code",
   "execution_count": 3,
   "metadata": {},
   "outputs": [],
   "source": [
    "N, D = doc_vec.shape"
   ]
  },
  {
   "cell_type": "code",
   "execution_count": 4,
   "metadata": {},
   "outputs": [],
   "source": [
    "def get_relevant_doc(i):\n",
    "    dist = np.linalg.norm(doc_vec[i, :] - doc_vec, ord=2, axis=1)\n",
    "    relevant = np.argsort(dist)[:6]\n",
    "    return relevant"
   ]
  },
  {
   "cell_type": "code",
   "execution_count": 6,
   "metadata": {},
   "outputs": [],
   "source": [
    "pool = mp.Pool(processes=14)\n",
    "results = pool.map(get_relevant_doc, range(N))"
   ]
  },
  {
   "cell_type": "code",
   "execution_count": 7,
   "metadata": {},
   "outputs": [
    {
     "data": {
      "text/plain": [
       "[array([    0,  7552, 12788, 13195,  6956,  8483]),\n",
       " array([   1, 2893, 4375, 5240, 4168, 4321]),\n",
       " array([    2,  2400,  3919, 26140,  4553,  4720]),\n",
       " array([   3, 2253, 2373, 9366, 1457, 1144]),\n",
       " array([   4, 2186,  274,  275, 2778, 1769]),\n",
       " array([    5,  2853,  2864, 17640,  3597,  2721]),\n",
       " array([    6,    75,  3731,  4044,  7901, 20345]),\n",
       " array([   7, 1073, 5080, 3644, 4580, 4150]),\n",
       " array([    8,  9979, 17007, 17409, 21273, 20365]),\n",
       " array([    9, 18298, 13632,  1130, 10605,  6252])]"
      ]
     },
     "execution_count": 7,
     "metadata": {},
     "output_type": "execute_result"
    }
   ],
   "source": [
    "results[:10]"
   ]
  },
  {
   "cell_type": "code",
   "execution_count": 9,
   "metadata": {},
   "outputs": [],
   "source": [
    "results = np.vstack(results)"
   ]
  },
  {
   "cell_type": "code",
   "execution_count": 13,
   "metadata": {},
   "outputs": [],
   "source": [
    "np.save('top5.npy', results[:, 1:])"
   ]
  },
  {
   "cell_type": "code",
   "execution_count": null,
   "metadata": {},
   "outputs": [],
   "source": []
  }
 ],
 "metadata": {
  "kernelspec": {
   "display_name": "Python 3",
   "language": "python",
   "name": "python3"
  },
  "language_info": {
   "codemirror_mode": {
    "name": "ipython",
    "version": 3
   },
   "file_extension": ".py",
   "mimetype": "text/x-python",
   "name": "python",
   "nbconvert_exporter": "python",
   "pygments_lexer": "ipython3",
   "version": "3.7.6"
  }
 },
 "nbformat": 4,
 "nbformat_minor": 4
}
